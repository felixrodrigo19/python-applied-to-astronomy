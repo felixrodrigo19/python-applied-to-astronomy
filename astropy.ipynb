{
 "cells": [
  {
   "cell_type": "code",
   "execution_count": 1,
   "metadata": {
    "id": "7ozixW9alSUg"
   },
   "outputs": [],
   "source": [
    "import astropy"
   ]
  },
  {
   "cell_type": "code",
   "execution_count": 2,
   "metadata": {
    "id": "gvZjb3_llZSX"
   },
   "outputs": [],
   "source": [
    "from astropy import units\n",
    "from astropy import constants"
   ]
  },
  {
   "cell_type": "markdown",
   "metadata": {
    "id": "AgAyCZVPnHxn"
   },
   "source": [
    "How long does the light travel from the sun to the earth in minutes? How long does the light travel from the Galactic center (assume a distance of 8 kpc) in years?"
   ]
  },
  {
   "cell_type": "code",
   "execution_count": 3,
   "metadata": {
    "colab": {
     "base_uri": "https://localhost:8080/",
     "height": 38
    },
    "id": "OGo2COqomSQF",
    "outputId": "a4036270-997d-4e7a-a719-4ecb5144b65c"
   },
   "outputs": [
    {
     "name": "stdout",
     "output_type": "stream",
     "text": [
      "  Name   = Speed of light in vacuum\n",
      "  Value  = 299792458.0\n",
      "  Uncertainty  = 0.0\n",
      "  Unit  = m / s\n",
      "  Reference = CODATA 2018\n"
     ]
    }
   ],
   "source": [
    "print(constants.c)"
   ]
  },
  {
   "cell_type": "code",
   "execution_count": 4,
   "metadata": {
    "colab": {
     "base_uri": "https://localhost:8080/",
     "height": 37
    },
    "id": "QqgZl8tgmkbd",
    "outputId": "ae2ca504-3a9f-4c10-83da-ddc17120ee09"
   },
   "outputs": [
    {
     "name": "stdout",
     "output_type": "stream",
     "text": [
      "  Name   = Astronomical Unit\n",
      "  Value  = 149597870700.0\n",
      "  Uncertainty  = 0.0\n",
      "  Unit  = m\n",
      "  Reference = IAU 2012 Resolution B2\n"
     ]
    }
   ],
   "source": [
    "print(constants.au)"
   ]
  },
  {
   "cell_type": "code",
   "execution_count": 5,
   "metadata": {
    "colab": {
     "base_uri": "https://localhost:8080/",
     "height": 37
    },
    "id": "BcsU82VFqm5Q",
    "outputId": "f8dc222b-a2be-43b1-af18-373bc181fc20"
   },
   "outputs": [],
   "source": [
    "light_travel = constants.au/constants.c"
   ]
  },
  {
   "cell_type": "code",
   "execution_count": 6,
   "metadata": {
    "colab": {
     "base_uri": "https://localhost:8080/",
     "height": 37
    },
    "id": "7RsqJLzvr_qf",
    "outputId": "49297aef-ecf6-46e9-e5d8-389079193c40"
   },
   "outputs": [],
   "source": [
    "light_travel_min = light_travel.to(units.minute)"
   ]
  },
  {
   "cell_type": "code",
   "execution_count": 7,
   "metadata": {},
   "outputs": [
    {
     "name": "stdout",
     "output_type": "stream",
     "text": [
      "The light travel from the sun to the earth in 8.316746397269274 min\n"
     ]
    }
   ],
   "source": [
    "print(f\"The light travel from the sun to the earth in {light_travel_min}\")"
   ]
  },
  {
   "cell_type": "code",
   "execution_count": 8,
   "metadata": {},
   "outputs": [
    {
     "name": "stdout",
     "output_type": "stream",
     "text": [
      "  Name   = Kiloparsec\n",
      "  Value  = 3.0856775814913675e+19\n",
      "  Uncertainty  = 0.0\n",
      "  Unit  = m\n",
      "  Reference = Derived from au + IAU 2015 Resolution B 2 note [4]\n"
     ]
    }
   ],
   "source": [
    "print(constants.kpc)"
   ]
  },
  {
   "cell_type": "code",
   "execution_count": 9,
   "metadata": {},
   "outputs": [],
   "source": [
    "light_travel_from_the_galactic_center = (8*constants.kpc)/constants.c"
   ]
  },
  {
   "cell_type": "code",
   "execution_count": 10,
   "metadata": {},
   "outputs": [],
   "source": [
    "light_travel_from_the_galactic_center_year = light_travel_from_the_galactic_center.to(units.year)"
   ]
  },
  {
   "cell_type": "code",
   "execution_count": 11,
   "metadata": {},
   "outputs": [
    {
     "name": "stdout",
     "output_type": "stream",
     "text": [
      "The light travel from the Galactic center in 26092.510217339466 yr\n"
     ]
    }
   ],
   "source": [
    "print(f\"The light travel from the Galactic center in {light_travel_from_the_galactic_center_year}\")"
   ]
  }
 ],
 "metadata": {
  "colab": {
   "collapsed_sections": [],
   "name": "astropy.ipynb",
   "provenance": []
  },
  "kernelspec": {
   "display_name": "Python 3 (ipykernel)",
   "language": "python",
   "name": "python3"
  },
  "language_info": {
   "codemirror_mode": {
    "name": "ipython",
    "version": 3
   },
   "file_extension": ".py",
   "mimetype": "text/x-python",
   "name": "python",
   "nbconvert_exporter": "python",
   "pygments_lexer": "ipython3",
   "version": "3.10.4"
  }
 },
 "nbformat": 4,
 "nbformat_minor": 4
}
