{
  "nbformat": 4,
  "nbformat_minor": 0,
  "metadata": {
    "colab": {
      "name": "kardashev.ipynb",
      "provenance": [],
      "authorship_tag": "ABX9TyOUyzWqsinHSxZj9/BPz6u0",
      "include_colab_link": true
    },
    "kernelspec": {
      "name": "python3",
      "display_name": "Python 3"
    },
    "language_info": {
      "name": "python"
    }
  },
  "cells": [
    {
      "cell_type": "markdown",
      "metadata": {
        "id": "view-in-github",
        "colab_type": "text"
      },
      "source": [
        "<a href=\"https://colab.research.google.com/github/felixrodrigo19/python-applied-to-astronomy/blob/main/kardashev.ipynb\" target=\"_parent\"><img src=\"https://colab.research.google.com/assets/colab-badge.svg\" alt=\"Open In Colab\"/></a>"
      ]
    },
    {
      "cell_type": "code",
      "execution_count": 65,
      "metadata": {
        "id": "BOxpzfuasr_e"
      },
      "outputs": [],
      "source": [
        "import numpy as np\n",
        "import matplotlib.pyplot as plt"
      ]
    },
    {
      "cell_type": "code",
      "source": [
        "def kardashev(p:float):\n",
        "  return (np.log10(p)-6)/10"
      ],
      "metadata": {
        "id": "73IBXIXftICX"
      },
      "execution_count": 66,
      "outputs": []
    },
    {
      "cell_type": "code",
      "source": [
        "scales = []\n",
        "for i in np.logspace(13., 50.):\n",
        "  _kardashev = kardashev(p=float(np.format_float_scientific(i)))\n",
        "\n",
        "  scales.append(_kardashev)"
      ],
      "metadata": {
        "id": "W37inCOVtzjx"
      },
      "execution_count": 67,
      "outputs": []
    },
    {
      "cell_type": "code",
      "source": [
        "len(scales)"
      ],
      "metadata": {
        "colab": {
          "base_uri": "https://localhost:8080/"
        },
        "id": "75VT9JBzyu2M",
        "outputId": "5b9cb364-02f5-479b-a969-5f08885a3d7c"
      },
      "execution_count": 71,
      "outputs": [
        {
          "output_type": "execute_result",
          "data": {
            "text/plain": [
              "50"
            ]
          },
          "metadata": {},
          "execution_count": 71
        }
      ]
    },
    {
      "cell_type": "code",
      "source": [
        "plt.title('kardashev scale')\n",
        "plt.plot(scales)\n",
        "plt.xlabel('energy consumption by civilization 10e+X')\n",
        "plt.ylabel('kardashev value')\n",
        "plt.show()"
      ],
      "metadata": {
        "colab": {
          "base_uri": "https://localhost:8080/",
          "height": 295
        },
        "id": "xHpvQDT0vigD",
        "outputId": "801da28e-d10d-4d8a-f857-cde73a9fca17"
      },
      "execution_count": 70,
      "outputs": [
        {
          "output_type": "display_data",
          "data": {
            "text/plain": [
              "<Figure size 432x288 with 1 Axes>"
            ],
            "image/png": "[encoded data removed]"
          },
          "metadata": {
            "needs_background": "light"
          }
        }
      ]
    },
    {
      "cell_type": "code",
      "source": [],
      "metadata": {
        "id": "NaXoSdl0wiFY"
      },
      "execution_count": 69,
      "outputs": []
    }
  ]
}